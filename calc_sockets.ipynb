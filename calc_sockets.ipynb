{
 "cells": [
  {
   "cell_type": "code",
   "execution_count": 1,
   "id": "4ce1d00c",
   "metadata": {},
   "outputs": [],
   "source": [
    "import math\n",
    "def calc_sockets():\n",
    "    oc = float(input(\"Enter spacing [ex. 160 or 310]: \" ))\n",
    "    feet = float(input(\"Enter length [feet]: \"))\n",
    "    sockets = (feet * 0.3048) / (oc / 1000)\n",
    "    print(\"%d feet @ %d spacing is %d sockets.\" % (feet, oc, math.ceil(sockets)))"
   ]
  },
  {
   "cell_type": "code",
   "execution_count": 2,
   "id": "24a22e6b",
   "metadata": {},
   "outputs": [
    {
     "name": "stdout",
     "output_type": "stream",
     "text": [
      "Enter spacing [ex. 160 or 310]: 160\n",
      "Enter length [feet]: 100\n",
      "191\n"
     ]
    }
   ],
   "source": [
    "calc_sockets()"
   ]
  }
 ],
 "metadata": {
  "kernelspec": {
   "display_name": "Python 3 (ipykernel)",
   "language": "python",
   "name": "python3"
  },
  "language_info": {
   "codemirror_mode": {
    "name": "ipython",
    "version": 3
   },
   "file_extension": ".py",
   "mimetype": "text/x-python",
   "name": "python",
   "nbconvert_exporter": "python",
   "pygments_lexer": "ipython3",
   "version": "3.9.7"
  }
 },
 "nbformat": 4,
 "nbformat_minor": 5
}
