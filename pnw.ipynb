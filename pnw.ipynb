{
 "cells": [
  {
      "cell_type": "markdown",
      "metadata": {
        "id": "view-in-github",
        "colab_type": "text"
      },
      "source": [
        "<a href=\"https://colab.research.google.com/github/beephsupreme/toki-notebook/blob/main/pnw.ipynb\" target=\"_parent\"><img src=\"https://colab.research.google.com/assets/colab-badge.svg\" alt=\"Open In Colab\"/></a>"
      ]
    },
  {
   "cell_type": "code",
   "execution_count": 9,
   "id": "9cb0988f",
   "metadata": {},
   "outputs": [],
   "source": [
    "import math\n",
    "\n",
    "kg = 2.20462\n",
    "m = 39.3701\n",
    "cm = m / 100\n",
    "dim_names = {1: \"Width\", 2: \"Length\", 3: \"Depth\", 4: \"Weight\"}\n",
    "\n",
    "\n",
    "def in_to_cm(inches):\n",
    "    return round(inches / cm)\n",
    "\n",
    "\n",
    "def lb_to_kg(lbs):\n",
    "    return round(lbs / kg, 1)\n",
    "\n",
    "\n",
    "def i_to_m(box_count):\n",
    "    dims = [0, 0, 0, 0, 0]\n",
    "    dims[0] = box_count\n",
    "    for x in range(1, 4):\n",
    "        dims[x] = in_to_cm(float(input(\"Enter %s: \" % dim_names[x])))\n",
    "    dims[4] = lb_to_kg(float(input(\"Enter Weight: \")))\n",
    "    return dims\n",
    "\n",
    "\n",
    "def convert_dims():\n",
    "    more_boxes = \"Y\"\n",
    "    lines = []\n",
    "    while more_boxes.upper() == \"Y\":\n",
    "        number_of_boxes = int(input(\"How many boxes? \"))\n",
    "        lines.append(i_to_m(number_of_boxes))\n",
    "        more_boxes = input(\"Add more boxes? (Y/N) \")\n",
    "    return lines\n",
    "\n",
    "\n",
    "def get_totals(lines):\n",
    "    cajas = 0\n",
    "    peso = 0\n",
    "    for line in lines:\n",
    "        cajas += line[0]\n",
    "        peso += (line[0] * line[4])\n",
    "    return cajas, peso\n",
    "\n",
    "\n",
    "def display_results(total_boxes, total_weight, lines):\n",
    "    print(\"\\nTotal %d boxes, %.1f kg\\n\" % (total_boxes, total_weight))\n",
    "    for line in lines:\n",
    "        if line[0] == 1:\n",
    "            print(\"%d @ %d x %d x %d cm, %.1f kg\" % (line[0], line[1], line[2], line[3], line[4]))\n",
    "        else:\n",
    "            print(\"%d @ %d x %d x %d cm, %.1f kg each\" % (line[0], line[1], line[2], line[3], line[4]))\n",
    "            \n",
    "def pnw():\n",
    "    data = convert_dims()\n",
    "    boxes, weight = get_totals(data)\n",
    "    display_results(boxes, weight, data)\n"
   ]
  },
  {
   "cell_type": "code",
   "execution_count": 10,
   "id": "8d6902a6",
   "metadata": {},
   "outputs": [
    {
     "name": "stdout",
     "output_type": "stream",
     "text": [
      "How many boxes? 2\n",
      "Enter Width: 18\n",
      "Enter Length: 18\n",
      "Enter Depth: 18\n",
      "Enter Weight: 54\n",
      "Add more boxes? (Y/N) Y\n",
      "How many boxes? 1\n",
      "Enter Width: 12\n",
      "Enter Length: 10\n",
      "Enter Depth: 8\n",
      "Enter Weight: 8\n",
      "Add more boxes? (Y/N) Y\n",
      "How many boxes? 2\n",
      "Enter Width: 16\n",
      "Enter Length: 12\n",
      "Enter Depth: 8\n",
      "Enter Weight: 29\n",
      "Add more boxes? (Y/N) N\n",
      "\n",
      "Total 5 boxes, 79.0 kg\n",
      "\n",
      "2 @ 46 x 46 x 46 cm, 24.5 kg each\n",
      "1 @ 30 x 25 x 20 cm, 3.6 kg\n",
      "2 @ 41 x 30 x 20 cm, 13.2 kg each\n"
     ]
    }
   ],
   "source": [
    "pnw()"
   ]
  },
  {
   "cell_type": "code",
   "execution_count": null,
   "id": "66e43414",
   "metadata": {},
   "outputs": [],
   "source": []
  }
 ],
 "metadata": {
  "kernelspec": {
   "display_name": "Python 3 (ipykernel)",
   "language": "python",
   "name": "python3"
  },
  "language_info": {
   "codemirror_mode": {
    "name": "ipython",
    "version": 3
   },
   "file_extension": ".py",
   "mimetype": "text/x-python",
   "name": "python",
   "nbconvert_exporter": "python",
   "pygments_lexer": "ipython3",
   "version": "3.9.7"
  }
 },
 "nbformat": 4,
 "nbformat_minor": 5
}
