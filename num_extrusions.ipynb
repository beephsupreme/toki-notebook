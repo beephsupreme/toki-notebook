{
 "cells": [
  {
   "cell_type": "code",
   "execution_count": 3,
   "id": "1ed08243",
   "metadata": {},
   "outputs": [],
   "source": [
    "import math\n",
    "def num_extrusions():\n",
    "    ext_length = float(input(\"Enter desired extrusion length in inches: \" ))\n",
    "    total_feet = float(input(\"Total footage: \" ))\n",
    "    num_extrusions = (total_feet * 12.0) / (ext_length)\n",
    "    num_extrusions = math.floor(num_extrusions)\n",
    "    partial = (total_feet * 12) - (num_extrusions * ext_length)\n",
    "    print(num_extrusions, ' @ ', ext_length, 'inches + 1 @ ',  partial, 'inches')"
   ]
  },
  {
   "cell_type": "code",
   "execution_count": 4,
   "id": "48057c02",
   "metadata": {},
   "outputs": [
    {
     "name": "stdout",
     "output_type": "stream",
     "text": [
      "Enter desired extrusion length in inches: 92\n",
      "Total footage: 100\n",
      "13  @  92.0 inches + 1 @  4.0 inches\n"
     ]
    }
   ],
   "source": [
    "num_extrusions()"
   ]
  },
  {
   "cell_type": "code",
   "execution_count": null,
   "id": "e86a45f0",
   "metadata": {},
   "outputs": [],
   "source": []
  }
 ],
 "metadata": {
  "kernelspec": {
   "display_name": "Python 3 (ipykernel)",
   "language": "python",
   "name": "python3"
  },
  "language_info": {
   "codemirror_mode": {
    "name": "ipython",
    "version": 3
   },
   "file_extension": ".py",
   "mimetype": "text/x-python",
   "name": "python",
   "nbconvert_exporter": "python",
   "pygments_lexer": "ipython3",
   "version": "3.9.7"
  }
 },
 "nbformat": 4,
 "nbformat_minor": 5
}
